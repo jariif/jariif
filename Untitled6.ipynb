{
  "nbformat": 4,
  "nbformat_minor": 0,
  "metadata": {
    "colab": {
      "provenance": [],
      "authorship_tag": "ABX9TyMnoNE/Fmgc37nvgkvDhh0q"
    },
    "kernelspec": {
      "name": "python3",
      "display_name": "Python 3"
    },
    "language_info": {
      "name": "python"
    }
  },
  "cells": [
    {
      "cell_type": "code",
      "source": [
        "#Python Character Set\n",
        "\n",
        "#print(\"Hello World!\")\n",
        "\n",
        "#print(\"Jarif is my name.\")\n",
        "#print(\"My age is 13\")\n",
        "\n",
        "#print(\"My name is Nazmur,\", \"My age is 13\")\n",
        "#print(\"My name is Sakib,\",\"My age is 13\" )\n",
        "#print(\"My name is Nazmur Sakib Jarif\",\"My age is 13\")\n",
        "\n",
        "#print(23)\n",
        "#print(35)\n",
        "#print(23+35)"
      ],
      "metadata": {
        "id": "GAd8eaFVKa5g"
      },
      "execution_count": null,
      "outputs": []
    },
    {
      "cell_type": "code",
      "source": [
        "#Variables and how to use them\n",
        "\n",
        "#name = \"Jarif\"\n",
        "#age = \"13\"\n",
        "\n",
        "#print(name)\n",
        "#print(age)\n",
        "\n",
        "#name = \"Jarif\"\n",
        "#age = \"13\"\n",
        "\n",
        "#print(\"My name is : \", name)\n",
        "#print(\"My name is : \", age)\n",
        "\n",
        "#name = \"NSJ\"\n",
        "\n",
        "#print(\"My name is : \", name)\n"
      ],
      "metadata": {
        "colab": {
          "base_uri": "https://localhost:8080/"
        },
        "id": "5DoONAh3Re13",
        "outputId": "f2fda533-3b55-43e1-f7d2-da2d0cbd42fa"
      },
      "execution_count": null,
      "outputs": [
        {
          "output_type": "stream",
          "name": "stdout",
          "text": [
            "My name is :  NSJ\n"
          ]
        }
      ]
    },
    {
      "cell_type": "code",
      "source": [
        "#Rules for Indentifier\n",
        "\n",
        "#String Values\n",
        "\n",
        "#name1 = \"NSJ\"\n",
        "#name2 = 'NSJ'\n",
        "#name3 = '''NSJ'''\n",
        "\n",
        "#print(name1)\n",
        "#print(name2)\n",
        "#print(name3)\n",
        "\n"
      ],
      "metadata": {
        "id": "ttJcZK53ULJA"
      },
      "execution_count": null,
      "outputs": []
    },
    {
      "cell_type": "code",
      "source": [
        "##Data Types\n",
        "#name = \"Jarif\"\n",
        "#age = 13\n",
        "\n",
        "#print(type(name))\n",
        "#print(type(age))\n",
        "\n",
        "#age = 13\n",
        "#old = False\n",
        "#a = None\n",
        "#print(type(old))\n",
        "#print(type(False))\n",
        "#print(type(None))"
      ],
      "metadata": {
        "colab": {
          "base_uri": "https://localhost:8080/"
        },
        "id": "vJMwoyoT9CtH",
        "outputId": "a8f7281a-cbc2-4d6b-f35f-fcf0fd31c64f"
      },
      "execution_count": null,
      "outputs": [
        {
          "output_type": "stream",
          "name": "stdout",
          "text": [
            "7\n"
          ]
        }
      ]
    },
    {
      "cell_type": "code",
      "source": [
        "##PrintSum\n",
        "#a = 2\n",
        "#b = 5\n",
        "#sum = a+b\n",
        "#print(sum)"
      ],
      "metadata": {
        "colab": {
          "base_uri": "https://localhost:8080/"
        },
        "id": "rSLv-JJ_AVNm",
        "outputId": "e76b334c-092a-4af6-f0fb-b8e076a8edd7"
      },
      "execution_count": null,
      "outputs": [
        {
          "output_type": "stream",
          "name": "stdout",
          "text": [
            "7\n"
          ]
        }
      ]
    },
    {
      "cell_type": "code",
      "source": [
        "##Comments in Python\n",
        "\n",
        "# If you write code as a hash-# it will be our Comment of Python like:\n",
        "\n",
        "#print(\"hello world\")"
      ],
      "metadata": {
        "id": "WCPkau1mA4hI"
      },
      "execution_count": null,
      "outputs": []
    },
    {
      "cell_type": "code",
      "source": [
        "##Arithmetic Operators\n",
        "\n",
        "#a = 5\n",
        "#b = 2\n",
        "#\n",
        "#sum = a+b\n",
        "#print(sum)\n",
        "\n",
        "#a = 3\n",
        "#b = 5\n",
        "#\n",
        "#sum = a+b\n",
        "#print(sum)\n",
        "\n",
        "\n",
        "#a = 1\n",
        "#b = 1\n",
        "#\n",
        "#print(a + b)\n",
        "#print(a - b)\n",
        "#print(a * b)\n",
        "#print(a / b)\n",
        "\n",
        "#relational operators\n",
        "\n",
        "#a = 500\n",
        "#b = 800\n",
        "#\n",
        "#print(a == b)\n",
        "#\n",
        "#a = 345\n",
        "#b = 653\n",
        "#\n",
        "#print(a != b)\n",
        "\n"
      ],
      "metadata": {
        "id": "yiRZBT6sBSHd"
      },
      "execution_count": null,
      "outputs": []
    },
    {
      "cell_type": "code",
      "source": [
        "##type conversion\n",
        "\n",
        "#a = 2\n",
        "#b = 4.25\n",
        "#\n",
        "#sum = a+b\n",
        "#print(sum)"
      ],
      "metadata": {
        "id": "1XE9qex7DzmA"
      },
      "execution_count": null,
      "outputs": []
    },
    {
      "cell_type": "code",
      "source": [
        "##input\n",
        "#input(\"Enter your name please:\")\n",
        "#input(\"Enter your password:\")\n",
        "#print(\"Welcome Jarif!\")"
      ],
      "metadata": {
        "colab": {
          "base_uri": "https://localhost:8080/"
        },
        "id": "Mr8dBiJHEoKp",
        "outputId": "e72eb254-df9c-43f4-a1a5-43bb8786e9ed"
      },
      "execution_count": null,
      "outputs": [
        {
          "output_type": "stream",
          "name": "stdout",
          "text": [
            "Enter your name please:Jarif\n",
            "Enter your password:abcdefghijklm\n",
            "Welcome Jarif!\n"
          ]
        }
      ]
    }
  ]
}