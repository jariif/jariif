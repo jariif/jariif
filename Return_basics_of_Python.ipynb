{
  "nbformat": 4,
  "nbformat_minor": 0,
  "metadata": {
    "colab": {
      "provenance": [],
      "authorship_tag": "ABX9TyNDWPcUmFBMxm7aAWx0rULr",
      "include_colab_link": true
    },
    "kernelspec": {
      "name": "python3",
      "display_name": "Python 3"
    },
    "language_info": {
      "name": "python"
    }
  },
  "cells": [
    {
      "cell_type": "markdown",
      "metadata": {
        "id": "view-in-github",
        "colab_type": "text"
      },
      "source": [
        "<a href=\"https://colab.research.google.com/github/jariif/jariif/blob/main/Return_basics_of_Python.ipynb\" target=\"_parent\"><img src=\"https://colab.research.google.com/assets/colab-badge.svg\" alt=\"Open In Colab\"/></a>"
      ]
    },
    {
      "cell_type": "code",
      "source": [
        "def display_invoice(username, amount, due_date):\n",
        "    print(f\"Hello {username}\")\n",
        "    print(f\"Your bill of $42.50 is due: {due_date}\")\n",
        "\n",
        "display_invoice(\"Bro\", 42.50, \"01/15\")\n",
        "\n",
        "\n",
        "\n"
      ],
      "metadata": {
        "colab": {
          "base_uri": "https://localhost:8080/"
        },
        "id": "0m9JBf5jAKnS",
        "outputId": "1b1de93e-03e1-43b3-916e-b541d06133a0"
      },
      "execution_count": 2,
      "outputs": [
        {
          "output_type": "stream",
          "name": "stdout",
          "text": [
            "Hello Bro\n",
            "Your bill of $42.50 is due: 01/15\n"
          ]
        }
      ]
    },
    {
      "cell_type": "code",
      "source": [
        "def display_invoice(username, price, expiry_date):\n",
        "    print(f\"Hello {username}\")\n",
        "    print(f\"Price of apple is $4\")\n",
        "\n",
        "display_invoice(\"Seller\", 4, 12/6)"
      ],
      "metadata": {
        "colab": {
          "base_uri": "https://localhost:8080/"
        },
        "id": "8WtENe9UhZoJ",
        "outputId": "236c6756-e8bd-499b-c612-a2a8b296f46f"
      },
      "execution_count": 11,
      "outputs": [
        {
          "output_type": "stream",
          "name": "stdout",
          "text": [
            "Hello Seller\n",
            "Price of apple is $4\n"
          ]
        }
      ]
    }
  ]
}